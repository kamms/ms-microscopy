{
 "cells": [
  {
   "cell_type": "code",
   "execution_count": 1,
   "metadata": {},
   "outputs": [],
   "source": [
    "indirectory = \"Output\"\n",
    "abbreviations = \"abbreviations\"\n",
    "trainingSet = \"training_set_identifiers\"\n",
    "outfil = \"reference_data.csv\""
   ]
  },
  {
   "cell_type": "code",
   "execution_count": 2,
   "metadata": {},
   "outputs": [],
   "source": [
    "import os"
   ]
  },
  {
   "cell_type": "code",
   "execution_count": 3,
   "metadata": {},
   "outputs": [],
   "source": [
    "uniqueBaits = {}\n",
    "stripchars = \"{}[]('\\\", :\\\"')\"\n",
    "for fileName in os.listdir(indirectory): \n",
    "    if \"unique_set\" in fileName:\n",
    "        with open(os.path.join(indirectory, fileName)) as fil:\n",
    "            for line in fil: \n",
    "                t = line.split(\"\\t\")\n",
    "                prey = t[0].lower()\n",
    "                t = t[1].split()\n",
    "                bait = t[1].lower()\n",
    "                spec = t[-1]\n",
    "                for sc in stripchars: \n",
    "                    bait = bait.replace(sc, \"\")\n",
    "                    spec = spec.replace(sc, \"\")\n",
    "                if bait not in uniqueBaits: \n",
    "                    uniqueBaits.update({bait: set()})\n",
    "                uniqueBaits[bait].add(prey + \"\\t\" + spec)"
   ]
  },
  {
   "cell_type": "code",
   "execution_count": 4,
   "metadata": {},
   "outputs": [],
   "source": [
    "abbs = {}\n",
    "with open(abbreviations) as fil: \n",
    "    next(fil)\n",
    "    for line in fil: \n",
    "        org, abb, useless = line.lower().split(\"\\t\")\n",
    "        abbs.update({org.strip(): abb.strip()})\n",
    "        abbs.update({abb.strip(): org.strip()})"
   ]
  },
  {
   "cell_type": "code",
   "execution_count": 5,
   "metadata": {},
   "outputs": [],
   "source": [
    "train = {}\n",
    "with open(trainingSet) as fil: \n",
    "    next(fil)\n",
    "    for line in fil: \n",
    "        bait, useless, location, useless2, useless3, useless4, useless5 = line.split(\"\\t\")\n",
    "        train.update({bait.strip().lower(): location.strip().lower()})"
   ]
  },
  {
   "cell_type": "code",
   "execution_count": 6,
   "metadata": {},
   "outputs": [],
   "source": [
    "out = []\n",
    "for u, uset in uniqueBaits.items(): \n",
    "    loc = train[u]\n",
    "    abb = abbs[loc]\n",
    "    for prot in uset:\n",
    "        p1, p2 = prot.split(\"\\t\")\n",
    "        out.append([u, p1, p2, abb])\n",
    "        "
   ]
  },
  {
   "cell_type": "code",
   "execution_count": 7,
   "metadata": {},
   "outputs": [],
   "source": [
    "with open(outfil, \"w\") as fil: \n",
    "    fil.write(\",\".join([\"Bait\", \"Prey\", \"AvgSpec\", \"Localization\"]) + \"\\n\")\n",
    "    for line in out: \n",
    "        fil.write(\",\".join(line).upper() + \"\\n\")"
   ]
  },
  {
   "cell_type": "code",
   "execution_count": 8,
   "metadata": {},
   "outputs": [],
   "source": [
    "with open(\"Abbrev.tsv\", \"w\") as fil: \n",
    "    for a in abbs: \n",
    "        if len(a)>4: fil.write(f\"{a}\\t{abbs[a]}\\n\")"
   ]
  },
  {
   "cell_type": "code",
   "execution_count": null,
   "metadata": {},
   "outputs": [],
   "source": []
  },
  {
   "cell_type": "code",
   "execution_count": null,
   "metadata": {},
   "outputs": [],
   "source": []
  }
 ],
 "metadata": {
  "kernelspec": {
   "display_name": "Python 3",
   "language": "python",
   "name": "python3"
  },
  "language_info": {
   "codemirror_mode": {
    "name": "ipython",
    "version": 3
   },
   "file_extension": ".py",
   "mimetype": "text/x-python",
   "name": "python",
   "nbconvert_exporter": "python",
   "pygments_lexer": "ipython3",
   "version": "3.7.3"
  }
 },
 "nbformat": 4,
 "nbformat_minor": 4
}
